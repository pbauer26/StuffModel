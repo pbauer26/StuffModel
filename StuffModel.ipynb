{
 "cells": [
  {
   "cell_type": "code",
   "execution_count": 87,
   "id": "359e8bae-49c9-46ab-b8df-179c393714da",
   "metadata": {},
   "outputs": [
    {
     "name": "stdout",
     "output_type": "stream",
     "text": [
      "Accuracy: 0.7134621200665356\n",
      "              precision    recall  f1-score   support\n",
      "\n",
      "           0       0.95      0.72      0.82     47159\n",
      "           1       0.23      0.68      0.34      5745\n",
      "\n",
      "    accuracy                           0.71     52904\n",
      "   macro avg       0.59      0.70      0.58     52904\n",
      "weighted avg       0.87      0.71      0.77     52904\n",
      "\n"
     ]
    }
   ],
   "source": [
    "import pandas as pd\n",
    "from sklearn.model_selection import train_test_split\n",
    "import xgboost as xgb\n",
    "from sklearn.metrics import accuracy_score, classification_report\n",
    "\n",
    "# Step 1: Load data\n",
    "data = pd.read_csv(r\"C:\\Users\\pjb20\\Downloads\\2023\\train combined_data.csv\")\n",
    "\n",
    "# Define features (X) and target variable (y)\n",
    "X = data[['RelSpeed', 'InducedVertBreak', 'HorzBreak', 'RelHeight', \"RelSide\", \"Extension\", \"VertApprAngle\", \"HorzApprAngle\"]]\n",
    "y = data['Result']\n",
    "\n",
    "# Split data into training and testing sets\n",
    "X_train, X_test, y_train, y_test = train_test_split(X, y, test_size=0.2, random_state=100)\n",
    "\n",
    "# Calculate class imbalance\n",
    "positive_instances = sum(y_train == 1)\n",
    "negative_instances = sum(y_train == 0)\n",
    "class_weight = negative_instances / positive_instances\n",
    "\n",
    "# Initialize and train the XGBoost model with class weighting\n",
    "model = xgb.XGBClassifier(scale_pos_weight=class_weight)\n",
    "model.fit(X_train, y_train)\n",
    "\n",
    "# Make predictions on the testing set\n",
    "y_pred = model.predict(X_test)\n",
    "\n",
    "# Evaluate the model\n",
    "accuracy = accuracy_score(y_test, y_pred)\n",
    "print(f'Accuracy: {accuracy}')\n",
    "\n",
    "# Classification report\n",
    "print(classification_report(y_test, y_pred))"
   ]
  },
  {
   "cell_type": "code",
   "execution_count": null,
   "id": "3659b975-7dfb-4fd3-b97b-f29c34d31989",
   "metadata": {},
   "outputs": [],
   "source": []
  },
  {
   "cell_type": "code",
   "execution_count": null,
   "id": "4968992a-d2a5-4ced-bb19-20bfeca68fe0",
   "metadata": {},
   "outputs": [],
   "source": []
  }
 ],
 "metadata": {
  "kernelspec": {
   "display_name": "Python 3 (ipykernel)",
   "language": "python",
   "name": "python3"
  },
  "language_info": {
   "codemirror_mode": {
    "name": "ipython",
    "version": 3
   },
   "file_extension": ".py",
   "mimetype": "text/x-python",
   "name": "python",
   "nbconvert_exporter": "python",
   "pygments_lexer": "ipython3",
   "version": "3.11.7"
  }
 },
 "nbformat": 4,
 "nbformat_minor": 5
}
